{
 "cells": [
  {
   "cell_type": "markdown",
   "id": "e21a05b7",
   "metadata": {},
   "source": [
    "# Pre-Reveal Sales"
   ]
  },
  {
   "cell_type": "code",
   "execution_count": null,
   "id": "271cbbc3",
   "metadata": {
    "tags": [
     "parameters"
    ]
   },
   "outputs": [],
   "source": [
    "\"\"\"\n",
    "Update Parameters Here\n",
    "\"\"\"\n",
    "COLLECTION_NAME = \"MekaVerse\"\n",
    "CONTRACT = \"0x9A534628B4062E123cE7Ee2222ec20B86e16Ca8F\"\n",
    "YEAR = \"2021\"\n",
    "MONTH = \"10\"\n",
    "DAY = \"13\"\n",
    "HOUR = \"15\"\n",
    "MINUTE = \"00\"\n",
    "\n",
    "METHOD = \"raritytools\"\n",
    "TOKEN_COL = \"TOKEN_ID\""
   ]
  },
  {
   "cell_type": "code",
   "execution_count": null,
   "id": "aec0b7d5-9ee0-4536-b53a-acb2d1ba92a9",
   "metadata": {
    "tags": []
   },
   "outputs": [],
   "source": [
    "\"\"\"\n",
    "@author: mdigi14\n",
    "\"\"\"\n",
    "\n",
    "import pandas as pd\n",
    "import matplotlib.pyplot as plt\n",
    "\n",
    "from honestnft_utils import config\n",
    "from honestnft_utils import constants\n",
    "from honestnft_utils import opensea\n",
    "\n",
    "\n",
    "REVEAL_TIME = \"{}-{}-{}T{}:{}:00\".format(YEAR, MONTH, DAY, HOUR, MINUTE)\n",
    "\n",
    "\"\"\"\n",
    "Plot params\n",
    "\"\"\"\n",
    "\n",
    "plt.rcParams.update({\"figure.facecolor\": \"white\", \"savefig.facecolor\": \"white\"})\n",
    "\n",
    "\"\"\"\n",
    "Helper Functions\n",
    "\"\"\"\n",
    "\n",
    "\n",
    "def get_all_sales():\n",
    "    data = opensea.get_opensea_events(\n",
    "        contract_address=CONTRACT,\n",
    "        occurred_before=REVEAL_TIME,\n",
    "        event_type=\"successful\",\n",
    "    )\n",
    "\n",
    "    print(\"Events returned :\", len(data))\n",
    "    return data"
   ]
  },
  {
   "cell_type": "code",
   "execution_count": null,
   "id": "dd156ed4",
   "metadata": {},
   "outputs": [],
   "source": [
    "RARITY_CSV = f\"{config.RARITY_FOLDER}/{COLLECTION_NAME}_{METHOD}.csv\"\n",
    "RARITY_DB = pd.read_csv(RARITY_CSV)\n",
    "\n",
    "sales_list = []\n",
    "data = get_all_sales()\n",
    "\n",
    "for event in data:\n",
    "    try:\n",
    "        token_id = int(event[\"asset\"][\"token_id\"])\n",
    "        sale = dict()\n",
    "        sale[TOKEN_COL] = token_id\n",
    "        sale[\"USER\"] = event[\"transaction\"][\"from_account\"][\"address\"]\n",
    "        sale[\"DATE\"] = event[\"created_date\"]\n",
    "        sale[\"RANK\"] = int(RARITY_DB[RARITY_DB[TOKEN_COL] == token_id][\"Rank\"])\n",
    "        sale[\"PRICE\"] = float(event[\"total_price\"]) / constants.ETHER_UNITS  # type: ignore\n",
    "        sales_list.append(sale)\n",
    "    except:\n",
    "        continue\n",
    "\n",
    "\"\"\"\n",
    "Generate Plot\n",
    "\"\"\"\n",
    "\n",
    "\n",
    "sales_df = pd.DataFrame(sales_list)\n",
    "sales_df = sales_df.sort_values(by=\"DATE\")\n",
    "sales_df.to_csv(\n",
    "    f\"{config.PRE_REVEAL_SALES_FOLDER}/{COLLECTION_NAME}_pre-reveal_sales.csv\",\n",
    "    index=False,\n",
    ")\n",
    "\n",
    "ax = sales_df.plot.scatter(\n",
    "    x=\"TOKEN_ID\",\n",
    "    y=\"RANK\",\n",
    "    grid=True,\n",
    "    alpha=0.25,\n",
    "    title=f\"{COLLECTION_NAME} - Pre-reveal Sales\",\n",
    "    figsize=(14, 7),\n",
    "    xlabel=\"Token ID\",\n",
    "    ylabel=\"Rarity Rank\",\n",
    ")"
   ]
  }
 ],
 "metadata": {
  "kernelspec": {
   "display_name": "Python 3 (ipykernel)",
   "language": "python",
   "name": "python3"
  },
  "language_info": {
   "codemirror_mode": {
    "name": "ipython",
    "version": 3
   },
   "file_extension": ".py",
   "mimetype": "text/x-python",
   "name": "python",
   "nbconvert_exporter": "python",
   "pygments_lexer": "ipython3",
   "version": "3.9.7"
  }
 },
 "nbformat": 4,
 "nbformat_minor": 5
}
