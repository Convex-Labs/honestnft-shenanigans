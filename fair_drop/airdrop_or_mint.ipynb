{
 "cells": [
  {
   "cell_type": "code",
   "execution_count": 1,
   "metadata": {
    "tags": [
     "parameters"
    ]
   },
   "outputs": [],
   "source": [
    "\"\"\"\n",
    "Update Parameters Here\n",
    "\"\"\"\n",
    "\n",
    "COLLECTION = \"Quaks\""
   ]
  },
  {
   "cell_type": "code",
   "execution_count": 2,
   "metadata": {},
   "outputs": [
    {
     "name": "stdout",
     "output_type": "stream",
     "text": [
      "Mints: 5950\n",
      "Airdrops: 0\n",
      "Total: 5950\n"
     ]
    }
   ],
   "source": [
    "import concurrent.futures\n",
    "import os\n",
    "\n",
    "import numpy as np\n",
    "import pandas as pd\n",
    "from web3 import Web3\n",
    "\n",
    "from utils import config\n",
    "\n",
    "\n",
    "def analyse_transaction(df_series: pd.Series) -> str:\n",
    "    txid = df_series[\"txid\"].values[0]\n",
    "    recipient = df_series[\"to_account\"].values[0]\n",
    "    web3 = Web3(Web3.HTTPProvider(config.ENDPOINT))\n",
    "    transaction = web3.eth.get_transaction(transaction_hash=txid)\n",
    "    if transaction[\"from\"].lower() == recipient.lower():\n",
    "        return \"Mint\"\n",
    "    else:\n",
    "        return \"Airdrop\"\n",
    "\n",
    "\n",
    "def analyse_dataframe(df: pd.DataFrame) -> pd.DataFrame:\n",
    "    grouped = df.groupby([\"txid\", \"to_account\"])\n",
    "    df = df.merge(\n",
    "        grouped.apply(analyse_transaction).rename(\"airdrop_or_mint\"),\n",
    "        on=[\"txid\", \"to_account\"],\n",
    "    )\n",
    "    return df\n",
    "\n",
    "\n",
    "MINT_PATH = f\"{config.MINTING_FOLDER}/{COLLECTION}_minting.csv\"\n",
    "MINT_DB = pd.read_csv(MINT_PATH)\n",
    "\n",
    "# Drop existing airdrop_or_mint column\n",
    "MINT_DB.drop(columns=[\"airdrop_or_mint\"], inplace=True, errors=\"ignore\")\n",
    "\n",
    "threads = min(32, os.cpu_count() + 4)\n",
    "df_results = []\n",
    "splitted_df = np.array_split(ary=MINT_DB, indices_or_sections=threads)\n",
    "\n",
    "with concurrent.futures.ProcessPoolExecutor(max_workers=threads) as executor:\n",
    "    results = [executor.submit(analyse_dataframe, df=df) for df in splitted_df]\n",
    "    for result in concurrent.futures.as_completed(results):\n",
    "        try:\n",
    "            df_results.append(result.result())\n",
    "        except Exception as exc:\n",
    "            print(exc)\n",
    "            raise\n",
    "\n",
    "combined_df = pd.concat(df_results)\n",
    "\n",
    "combined_df.sort_values(by=[\"TOKEN_ID\"], ascending=True, inplace=True)\n",
    "\n",
    "combined_df.to_csv(MINT_PATH, index=False)\n",
    "\n",
    "# Count number of mints and airdrops\n",
    "mints = combined_df[combined_df[\"airdrop_or_mint\"] == \"Mint\"].shape[0]\n",
    "airdrops = combined_df[combined_df[\"airdrop_or_mint\"] == \"Airdrop\"].shape[0]\n",
    "print(f\"Mints: {mints}\")\n",
    "print(f\"Airdrops: {airdrops}\")\n",
    "print(f\"Total: {mints + airdrops}\")"
   ]
  }
 ],
 "metadata": {
  "interpreter": {
   "hash": "3a57a710ac206b3b510fd044acc1a73765884a643ac55c4278b87b34cdbb397c"
  },
  "kernelspec": {
   "display_name": "Python 3 (ipykernel)",
   "language": "python",
   "name": "python3"
  },
  "language_info": {
   "codemirror_mode": {
    "name": "ipython",
    "version": 3
   },
   "file_extension": ".py",
   "mimetype": "text/x-python",
   "name": "python",
   "nbconvert_exporter": "python",
   "pygments_lexer": "ipython3",
   "version": "3.9.7"
  }
 },
 "nbformat": 4,
 "nbformat_minor": 4
}
