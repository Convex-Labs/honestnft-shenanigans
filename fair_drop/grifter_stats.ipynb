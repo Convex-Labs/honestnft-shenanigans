{
 "cells": [
  {
   "cell_type": "code",
   "execution_count": 3,
   "id": "aa694c25-0f54-4160-829b-2233259ea14c",
   "metadata": {
    "tags": [
     "parameters"
    ]
   },
   "outputs": [],
   "source": [
    "\"\"\"\n",
    "Update Parameters Here\n",
    "\"\"\"\n",
    "FILE = \"Quaks\"\n",
    "GRIFTER_ADDRESS = \"0x111c26a02ca4050684d4083d72e2a7c1dcba853f\"\n",
    "TOKEN_COL = \"TOKEN_ID\"\n",
    "TOP_N = 150"
   ]
  },
  {
   "cell_type": "code",
   "execution_count": 4,
   "id": "3d997bcf-49f5-430a-ba5e-89a310d9a065",
   "metadata": {},
   "outputs": [
    {
     "name": "stdout",
     "output_type": "stream",
     "text": [
      "Project:  Quaks\n",
      "Grifter:  0x111c26a02ca4050684d4083d72e2a7c1dcba853f\n",
      "\n",
      "\n",
      "Total tokens in range:  6000\n",
      "Total rares in range:  149\n",
      "\n",
      "\n",
      "Total tokens minted by grifter:  5\n",
      "Rare tokens minted by grifter:  0\n",
      "\n",
      "\n",
      "Rare tokens minted by grifter (by ID):  []\n",
      "\n",
      "\n",
      "Percentage of tokens in range minted by grifter:  0.08%\n",
      "Percentage of rare tokens in range minted by grifter:  0.00%\n",
      "Multiple of rare token pct vs total token pct:  0\n"
     ]
    }
   ],
   "source": [
    "\"\"\"\n",
    "@author: mdigi14\n",
    "\"\"\"\n",
    "\n",
    "import pandas as pd\n",
    "import math\n",
    "\n",
    "from honestnft_utils import config\n",
    "\n",
    "\n",
    "RARITY_PATH = f\"{config.RARITY_FOLDER}/{FILE}_raritytools.csv\"\n",
    "MINT_PATH = f\"{config.MINTING_FOLDER}/{FILE}_minting.csv\"\n",
    "\n",
    "\n",
    "\"\"\"\n",
    "Generate Report\n",
    "\"\"\"\n",
    "\n",
    "RARITY_DB = pd.read_csv(RARITY_PATH)\n",
    "RARITY_DB = RARITY_DB[RARITY_DB[TOKEN_COL].duplicated() == False]\n",
    "\n",
    "LOWER_BOUND = 0\n",
    "UPPER_BOUND = int(math.ceil(max(RARITY_DB[TOKEN_COL] / 100.0)) * 100)\n",
    "\n",
    "\n",
    "MINT_DB = pd.read_csv(MINT_PATH)\n",
    "MINT_DB = MINT_DB[MINT_DB[\"to_account\"] == GRIFTER_ADDRESS]\n",
    "RARE_MINT_DB = MINT_DB[MINT_DB[\"rank\"] < TOP_N]\n",
    "\n",
    "\n",
    "ALT_DB = RARITY_DB[RARITY_DB[TOKEN_COL] > LOWER_BOUND]\n",
    "ALT_DB = ALT_DB[ALT_DB[TOKEN_COL] < UPPER_BOUND]\n",
    "RARE_DB = ALT_DB[ALT_DB[\"Rank\"] < TOP_N]\n",
    "\n",
    "rare_tokens_in_range = len(RARE_DB)\n",
    "\n",
    "tokens_minted_by_grifter = len(list(MINT_DB[TOKEN_COL]))\n",
    "rare_tokens_minted_by_grifter = len(RARE_MINT_DB)\n",
    "\n",
    "grifter_mint_share = tokens_minted_by_grifter / (UPPER_BOUND - LOWER_BOUND)\n",
    "grifter_rare_mint_share = rare_tokens_minted_by_grifter / rare_tokens_in_range\n",
    "\n",
    "print(\"Project: \", FILE)\n",
    "print(\"Grifter: \", GRIFTER_ADDRESS)\n",
    "print(\"\\n\")\n",
    "\n",
    "print(\"Total tokens in range: \", UPPER_BOUND - LOWER_BOUND)\n",
    "print(\"Total rares in range: \", rare_tokens_in_range)\n",
    "print(\"\\n\")\n",
    "\n",
    "print(\"Total tokens minted by grifter: \", tokens_minted_by_grifter)\n",
    "print(\"Rare tokens minted by grifter: \", rare_tokens_minted_by_grifter)\n",
    "print(\"\\n\")\n",
    "\n",
    "print(\"Rare tokens minted by grifter (by ID): \", list(RARE_MINT_DB[TOKEN_COL]))\n",
    "print(\"\\n\")\n",
    "\n",
    "print(\n",
    "    \"Percentage of tokens in range minted by grifter: \",\n",
    "    \"{:.2%}\".format(grifter_mint_share),\n",
    ")\n",
    "print(\n",
    "    \"Percentage of rare tokens in range minted by grifter: \",\n",
    "    \"{:.2%}\".format(grifter_rare_mint_share),\n",
    ")\n",
    "print(\n",
    "    \"Multiple of rare token pct vs total token pct: \",\n",
    "    round(grifter_rare_mint_share / grifter_mint_share),\n",
    ")"
   ]
  }
 ],
 "metadata": {
  "kernelspec": {
   "display_name": "Python 3 (ipykernel)",
   "language": "python",
   "name": "python3"
  },
  "language_info": {
   "codemirror_mode": {
    "name": "ipython",
    "version": 3
   },
   "file_extension": ".py",
   "mimetype": "text/x-python",
   "name": "python",
   "nbconvert_exporter": "python",
   "pygments_lexer": "ipython3",
   "version": "3.9.7"
  }
 },
 "nbformat": 4,
 "nbformat_minor": 5
}
