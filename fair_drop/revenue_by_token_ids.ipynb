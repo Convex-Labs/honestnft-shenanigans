{
 "cells": [
  {
   "cell_type": "code",
   "execution_count": 7,
   "id": "101d3a6f-aa14-42e9-b0ba-62a611ae37c5",
   "metadata": {
    "tags": [
     "parameters"
    ]
   },
   "outputs": [],
   "source": [
    "\"\"\"\n",
    "Update Parameters Here\n",
    "\"\"\"\n",
    "COLLECTION_NAME = \"8_BIT_UNIVERSE\"\n",
    "CONTRACT = \"0xaAe71BBbaA359BE0d81D5CBc9B1E88A8b7c58a94\""
   ]
  },
  {
   "cell_type": "code",
   "execution_count": 8,
   "id": "437331d9-64e0-484f-bf1b-41dcac416749",
   "metadata": {},
   "outputs": [],
   "source": [
    "\"\"\"\n",
    "@author: mdigi14\n",
    "\"\"\"\n",
    "\n",
    "import pandas as pd\n",
    "\n",
    "from honestnft_utils import config\n",
    "from honestnft_utils import constants\n",
    "from honestnft_utils import opensea\n",
    "\n",
    "\"\"\"\n",
    "Helper Functions\n",
    "\"\"\"\n",
    "\n",
    "\n",
    "def get_all_sales(token_id=None):\n",
    "    data = opensea.get_opensea_events(\n",
    "        contract_address=CONTRACT, event_type=\"successful\", token_id=token_id\n",
    "    )\n",
    "    return data"
   ]
  },
  {
   "cell_type": "code",
   "execution_count": 9,
   "id": "8ea86948-5b20-43c0-94d3-a6dda6e4f3e0",
   "metadata": {},
   "outputs": [],
   "source": [
    "\"\"\"\n",
    "Generate Dataset\n",
    "\"\"\"\n",
    "\n",
    "events = get_all_sales()\n",
    "events_list = []\n",
    "df = pd.json_normalize(events)\n",
    "\n",
    "# Keep only the columns we want\n",
    "df = df[\n",
    "    [\n",
    "        \"asset.token_id\",\n",
    "        \"total_price\",\n",
    "        \"transaction.timestamp\",\n",
    "    ]\n",
    "]\n",
    "df[\"total_price\"] = df[\"total_price\"].apply(lambda x: float(x) / constants.ETHER_UNITS)\n",
    "\n",
    "# Rename columns\n",
    "df.columns = [\n",
    "    \"token_id\",\n",
    "    \"price\",\n",
    "    \"date_sold\",\n",
    "]\n",
    "\n",
    "# drop NA values\n",
    "df.dropna(subset=[\"token_id\"], inplace=True)\n",
    "\n",
    "# keep first sale of a token only\n",
    "df = df.sort_values(by=[\"date_sold\", \"token_id\"]).drop_duplicates(\n",
    "    subset=[\"token_id\"], keep=\"first\"\n",
    ")\n",
    "\n",
    "df.to_csv(\n",
    "    f\"{config.FIRST_FLIP_REVENUE_FOLDER}/{COLLECTION_NAME}_first_sale_revenue.csv\",\n",
    "    index=False,\n",
    ")"
   ]
  }
 ],
 "metadata": {
  "kernelspec": {
   "display_name": "Python 3 (ipykernel)",
   "language": "python",
   "name": "python3"
  },
  "language_info": {
   "codemirror_mode": {
    "name": "ipython",
    "version": 3
   },
   "file_extension": ".py",
   "mimetype": "text/x-python",
   "name": "python",
   "nbconvert_exporter": "python",
   "pygments_lexer": "ipython3",
   "version": "3.9.7"
  }
 },
 "nbformat": 4,
 "nbformat_minor": 5
}
