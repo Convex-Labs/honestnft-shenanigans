{
    "cells": [
        {
            "cell_type": "markdown",
            "id": "454c626b",
            "metadata": {},
            "source": [
                "# Pre-Reveal Bids"
            ]
        },
        {
            "cell_type": "code",
            "execution_count": 1,
            "id": "e867edbc-c0f7-4826-8e05-bf2bf7e1ce09",
            "metadata": {
                "tags": [
                    "parameters"
                ]
            },
            "outputs": [],
            "source": [
                "\"\"\"\n",
                "Update Parameters Here\n",
                "\"\"\"\n",
                "COLLECTION_NAME = \"MekaVerse\"\n",
                "CONTRACT = \"0x9A534628B4062E123cE7Ee2222ec20B86e16Ca8F\"\n",
                "YEAR = \"2021\"\n",
                "MONTH = \"10\"\n",
                "DAY = \"13\"\n",
                "HOUR = \"15\"\n",
                "MINUTE = \"00\"\n",
                "\n",
                "METHOD = \"raritytools\"\n",
                "TOKEN_COL = \"TOKEN_ID\""
            ]
        },
        {
            "cell_type": "code",
            "execution_count": 2,
            "id": "eef68f7a-4d72-4c3d-9ae1-240ab29b39c9",
            "metadata": {},
            "outputs": [],
            "source": [
                "\"\"\"\n",
                "@author: mdigi14\n",
                "\"\"\"\n",
                "\n",
                "import pandas as pd\n",
                "import matplotlib.pyplot as plt\n",
                "import datetime\n",
                "\n",
                "from typing import List, Dict, Any\n",
                "\n",
                "from honestnft_utils import constants\n",
                "from honestnft_utils import config\n",
                "from honestnft_utils import opensea\n",
                "\n",
                "REVEAL_TIME = \"{}-{}-{}T{}:{}:00\".format(YEAR, MONTH, DAY, HOUR, MINUTE)\n",
                "DATETIME_REVEAL_TIME = datetime.datetime.strptime(REVEAL_TIME, \"%Y-%m-%dT%H:%M:%S\")\n",
                "\n",
                "\n",
                "\"\"\"\n",
                "Plot params\n",
                "\"\"\"\n",
                "\n",
                "plt.rcParams.update({\"figure.facecolor\": \"white\", \"savefig.facecolor\": \"white\"})\n",
                "\n",
                "\"\"\"\n",
                "Helper Functions\n",
                "\"\"\"\n",
                "\n",
                "\n",
                "def get_all_bids() -> List[Dict[str, Any]]:\n",
                "    data = opensea.get_opensea_events(\n",
                "        contract_address=CONTRACT,\n",
                "        occurred_before=REVEAL_TIME,\n",
                "        event_type=\"bid_entered\",\n",
                "    )\n",
                "\n",
                "    print(\"Events returned :\", len(data))\n",
                "    return data"
            ]
        },
        {
            "cell_type": "code",
            "execution_count": 3,
            "id": "8446b713-6efa-41d0-ac1a-24f6df9ce311",
            "metadata": {},
            "outputs": [
                {
                    "name": "stdout",
                    "output_type": "stream",
                    "text": [
                        "Events returned : 2674\n",
                        "Total bids  2674\n"
                    ]
                },
                {
                    "data": {
                        "image/png": "[encoded data removed]",
                        "text/plain": [
                            "<Figure size 1008x504 with 1 Axes>"
                        ]
                    },
                    "metadata": {
                        "needs_background": "light"
                    },
                    "output_type": "display_data"
                }
            ],
            "source": [
                "PATH = f\"{config.RARITY_FOLDER}/{COLLECTION_NAME}_{METHOD}.csv\"\n",
                "RARITY_DB = pd.read_csv(PATH)\n",
                "\n",
                "bids = []\n",
                "events = []\n",
                "\n",
                "events = get_all_bids()\n",
                "print(\"Total bids \", len(events))\n",
                "\n",
                "for event in events:\n",
                "    bid_time = datetime.datetime.strptime(event[\"created_date\"], \"%Y-%m-%dT%H:%M:%S.%f\")\n",
                "    if bid_time < DATETIME_REVEAL_TIME:\n",
                "\n",
                "        try:\n",
                "            tokenId = int(event[\"asset\"][\"token_id\"])\n",
                "            bid = dict()\n",
                "            bid[\"TOKEN_ID\"] = tokenId\n",
                "            bid[\"USER\"] = event[\"from_account\"][\"address\"]\n",
                "            bid[\"OFFER\"] = float(event[\"bid_amount\"]) / constants.ETHER_UNITS  # type: ignore\n",
                "            bid[\"DATE\"] = event[\"created_date\"]\n",
                "            bid[\"RANK\"] = int(RARITY_DB[RARITY_DB[TOKEN_COL] == tokenId][\"Rank\"])\n",
                "            bids.append(bid)\n",
                "\n",
                "        except:\n",
                "            continue\n",
                "\n",
                "\n",
                "bidding_df = pd.DataFrame(bids)\n",
                "bidding_df = bidding_df.sort_values(by=\"DATE\")\n",
                "bidding_df.to_csv(\n",
                "    f\"{config.PRE_REVEAL_BIDS_FOLDER}/{COLLECTION_NAME}_pre-reveal_bids.csv\",\n",
                "    index=False,\n",
                ")\n",
                "\n",
                "\n",
                "ax = bidding_df.plot.scatter(\n",
                "    x=\"TOKEN_ID\",\n",
                "    y=\"RANK\",\n",
                "    alpha=0.25,\n",
                "    title=f\"{COLLECTION_NAME} - Pre-reveal Bids\",\n",
                "    figsize=(14, 7),\n",
                "    xlabel=\"Token ID\",\n",
                "    ylabel=\"Rarity Rank\",\n",
                ")"
            ]
        }
    ],
    "metadata": {
        "kernelspec": {
            "display_name": "Python 3.9.7 64-bit ('venv': venv)",
            "language": "python",
            "name": "python3"
        },
        "language_info": {
            "codemirror_mode": {
                "name": "ipython",
                "version": 3
            },
            "file_extension": ".py",
            "mimetype": "text/x-python",
            "name": "python",
            "nbconvert_exporter": "python",
            "pygments_lexer": "ipython3",
            "version": "3.9.7"
        },
        "vscode": {
            "interpreter": {
                "hash": "bc19b4bd43539b2013ddeedb26ed119e8486126fb60b71b0e6b4f1c94ef48467"
            }
        }
    },
    "nbformat": 4,
    "nbformat_minor": 5
}
